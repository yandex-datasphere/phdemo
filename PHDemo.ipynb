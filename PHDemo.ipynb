{
 "cells": [
  {
   "cell_type": "markdown",
   "id": "56d4d27b-4ffa-4a6d-a5b0-691b4b9ec101",
   "metadata": {},
   "source": [
    "## Строим чат-бота для иллюстрации новостей в Yandex DataSphere\n",
    "\n",
    "Для примера возьмём новость с сайта популярной китайской газеты [Гуанмин Жибао](http://gmw.cn/)"
   ]
  },
  {
   "cell_type": "code",
   "execution_count": 2,
   "id": "8a8ed8dd-8dd1-4213-9634-37d145566149",
   "metadata": {
    "execution": {
     "iopub.execute_input": "2024-05-31T23:27:11.075686Z",
     "iopub.status.busy": "2024-05-31T23:27:11.074699Z",
     "iopub.status.idle": "2024-05-31T23:27:11.088706Z",
     "shell.execute_reply": "2024-05-31T23:27:11.088111Z",
     "shell.execute_reply.started": "2024-05-31T23:27:11.075649Z"
    },
    "tags": []
   },
   "outputs": [],
   "source": [
    "text = \"\"\"\n",
    "　作者：浙江大学长三角一体化发展研究中心课题组\n",
    "\n",
    "　　长三角地区包括上海、江苏、浙江、安徽三省一市，以不足4%的国土面积，集聚了全国约17%的人口，创造出全国近四分之一的经济总量，在全国经济板块中具有举足轻重的地位。2018年11月，习近平总书记在上海宣布，支持长江三角洲区域一体化发展并上升为国家战略。2019年5月，习近平总书记主持召开中共中央政治局会议，审议通过《长江三角洲区域一体化发展规划纲要》，为长三角一体化发展举旗定向、擘画蓝图。长三角一体化发展的第一个五年间，三省一市紧扣一体化和高质量两个关键词，不断推动“蓝图规划”变为“现实画卷”，长三角成为我国经济最活跃、开放程度最高、创新能力最强的区域之一。\n",
    "\n",
    "今年4月30日，中共中央政治局召开会议，审议《关于持续深入推进长三角一体化高质量发展若干政策措施的意见》，提出要加快突破关键核心技术，统筹推进传统产业升级、新兴产业壮大、未来产业培育，在更大范围内联动构建创新链、产业链、供应链。当前，新一轮科技革命和产业变革与我国加快培育发展新质生产力形成了历史性交汇，长三角一体化发展已迈入“第二个五年”，如何在高质量发展基础上向“新”提质、积“势”成力，成为我国培育、发展和释放新质生产力的高地和窗口，是长三角三省一市必须回答的新课题。\n",
    "\"\"\""
   ]
  },
  {
   "cell_type": "code",
   "execution_count": 3,
   "id": "a3f3f090-8a76-4adc-ac03-db7ca07ca45d",
   "metadata": {
    "execution": {
     "iopub.execute_input": "2024-05-31T23:27:11.895847Z",
     "iopub.status.busy": "2024-05-31T23:27:11.894830Z",
     "iopub.status.idle": "2024-05-31T23:27:12.902226Z",
     "shell.execute_reply": "2024-05-31T23:27:12.901419Z",
     "shell.execute_reply.started": "2024-05-31T23:27:11.895807Z"
    },
    "tags": []
   },
   "outputs": [
    {
     "data": {
      "text/plain": [
       "{'translations': [{'text': '\\n\\u3000Автор: Исследовательская группа, Исследовательский центр интеграции и развития дельты реки Янцзы, Чжэцзянский университет\\n\\n\\u3000\\u3000Регион дельты реки Янцзы включает в себя три провинции и один город - Шанхай, Цзянсу, Чжэцзян и Аньхой. На его территории, занимающей менее 4% территории страны, проживает около 17% населения и создается почти четверть всей экономики страны. Он занимает важное положение в народнохозяйственном секторе.В ноябре 2018 года Генеральный секретарь Си Цзиньпин объявил в Шанхае, что он поддерживает развитие региональной интеграции в дельте реки Янцзы и продвигает ее в качестве национальной стратегии.В мае 2019 года Генеральный секретарь Си Цзиньпин председательствовал на заседании Политбюро Центрального комитета Коммунистической партии Китая, на котором был рассмотрен и принят \"План регионального интеграционного развития дельты реки Янцзы\", чтобы поднять флаг и составить план комплексного развития дельты реки Янцзы.В течение первых пяти лет комплексного развития дельты реки Янцзы три провинции и один город внимательно следили за двумя ключевыми словами - интеграция и высокое качество, и постоянно продвигали “предварительный план”, превращая его в “реальную картину”. Дельта реки Янцзы стала одним из регионов с наиболее развитой инфраструктурой. самая активная экономика, высочайшая степень открытости и самый сильный инновационный потенциал в нашей стране.\\n\\n30 апреля этого года Политбюро Центрального комитета Коммунистической партии Китая провело заседание, на котором были рассмотрены \"Мнения по ряду направлений политики и мер, направленных на постоянное и всестороннее содействие комплексному и высококачественному развитию дельты реки Янцзы\", и было предложено ускорить прорыв в ключевых технологиях, координируйте и поощряйте модернизацию традиционных отраслей, рост развивающихся отраслей и развитие отраслей будущего, а также выстраивайте инновационные цепочки, производственные цепочки и цепочки поставок в более широком масштабе.В настоящее время новый виток научно-технической революции и промышленных преобразований стал историческим перекрестком с ускорением роста производства в нашей стране и повышением производительности на новом качественном уровне. Комплексное развитие дельты реки Янцзы вступило во “вторую пятилетку”. Как улучшить качество и накопить “потенциал”, основанный на высококачественном развитии, стал для нашей страны основой и окном для культивирования, развития и выхода на качественно новый уровень производительности. Это новая тема, на которую должны ответить три провинции и один город в дельте реки Янцзы.\\n',\n",
       "   'detectedLanguageCode': 'zh'}]}"
      ]
     },
     "execution_count": 3,
     "metadata": {},
     "output_type": "execute_result"
    }
   ],
   "source": [
    "import requests\n",
    "import os\n",
    "\n",
    "def call_api(url, data):\n",
    "    headers = { \"Authorization\" : f\"Api-Key {os.environ['api_key']}\" }\n",
    "    return requests.post(url, json=data, headers=headers).json()\n",
    "    \n",
    "call_api(\"https://translate.api.cloud.yandex.net/translate/v2/translate\",\n",
    "{\n",
    "  \"targetLanguageCode\" : \"ru\",\n",
    "  \"texts\" : [text]\n",
    "})\n",
    "    "
   ]
  },
  {
   "cell_type": "code",
   "execution_count": 4,
   "id": "20b7905b-cc9c-4702-8cdc-f3f856a70cb0",
   "metadata": {
    "execution": {
     "iopub.execute_input": "2024-05-31T23:27:13.829737Z",
     "iopub.status.busy": "2024-05-31T23:27:13.828531Z",
     "iopub.status.idle": "2024-05-31T23:27:14.900287Z",
     "shell.execute_reply": "2024-05-31T23:27:14.899588Z",
     "shell.execute_reply.started": "2024-05-31T23:27:13.829696Z"
    },
    "tags": []
   },
   "outputs": [
    {
     "data": {
      "text/plain": [
       "'\\n\\u3000Автор: Исследовательская группа, Исследовательский центр интеграции и развития дельты реки Янцзы, Чжэцзянский университет\\n\\n\\u3000\\u3000Регион дельты реки Янцзы включает в себя три провинции и один город - Шанхай, Цзянсу, Чжэцзян и Аньхой. На его территории, занимающей менее 4% территории страны, проживает около 17% населения и создается почти четверть всей экономики страны. Он занимает важное положение в народнохозяйственном секторе.В ноябре 2018 года Генеральный секретарь Си Цзиньпин объявил в Шанхае, что он поддерживает развитие региональной интеграции в дельте реки Янцзы и продвигает ее в качестве национальной стратегии.В мае 2019 года Генеральный секретарь Си Цзиньпин председательствовал на заседании Политбюро Центрального комитета Коммунистической партии Китая, на котором был рассмотрен и принят \"План регионального интеграционного развития дельты реки Янцзы\", чтобы поднять флаг и составить план комплексного развития дельты реки Янцзы.В течение первых пяти лет комплексного развития дельты реки Янцзы три провинции и один город внимательно следили за двумя ключевыми словами - интеграция и высокое качество, и постоянно продвигали “предварительный план”, превращая его в “реальную картину”. Дельта реки Янцзы стала одним из регионов с наиболее развитой инфраструктурой. самая активная экономика, высочайшая степень открытости и самый сильный инновационный потенциал в нашей стране.\\n\\n30 апреля этого года Политбюро Центрального комитета Коммунистической партии Китая провело заседание, на котором были рассмотрены \"Мнения по ряду направлений политики и мер, направленных на постоянное и всестороннее содействие комплексному и высококачественному развитию дельты реки Янцзы\", и было предложено ускорить прорыв в ключевых технологиях, координируйте и поощряйте модернизацию традиционных отраслей, рост развивающихся отраслей и развитие отраслей будущего, а также выстраивайте инновационные цепочки, производственные цепочки и цепочки поставок в более широком масштабе.В настоящее время новый виток научно-технической революции и промышленных преобразований стал историческим перекрестком с ускорением роста производства в нашей стране и повышением производительности на новом качественном уровне. Комплексное развитие дельты реки Янцзы вступило во “вторую пятилетку”. Как улучшить качество и накопить “потенциал”, основанный на высококачественном развитии, стал для нашей страны основой и окном для культивирования, развития и выхода на качественно новый уровень производительности. Это новая тема, на которую должны ответить три провинции и один город в дельте реки Янцзы.\\n'"
      ]
     },
     "execution_count": 4,
     "metadata": {},
     "output_type": "execute_result"
    }
   ],
   "source": [
    "def translate(text, target_language=\"ru\"):\n",
    "    res = call_api(\"https://translate.api.cloud.yandex.net/translate/v2/translate\",\n",
    "    {\n",
    "      \"targetLanguageCode\" : target_language,\n",
    "      \"texts\" : [text]})\n",
    "    return res['translations'][0]['text']\n",
    "    \n",
    "text_ru = translate(text)\n",
    "text_ru"
   ]
  },
  {
   "cell_type": "code",
   "execution_count": 4,
   "id": "d1cd84bf-250c-4f29-999a-d3b8861f281d",
   "metadata": {
    "execution": {
     "iopub.execute_input": "2024-05-31T22:28:24.963368Z",
     "iopub.status.busy": "2024-05-31T22:28:24.962245Z",
     "iopub.status.idle": "2024-05-31T22:28:30.899334Z",
     "shell.execute_reply": "2024-05-31T22:28:30.898344Z",
     "shell.execute_reply.started": "2024-05-31T22:28:24.963323Z"
    },
    "tags": []
   },
   "outputs": [
    {
     "name": "stdout",
     "output_type": "stream",
     "text": [
      "Defaulting to user installation because normal site-packages is not writeable\n",
      "Requirement already satisfied: yandex_chain in /home/jupyter/.local/lib/python3.10/site-packages (0.0.8)\n",
      "Requirement already satisfied: requests in /usr/local/lib/python3.10/dist-packages (from yandex_chain) (2.27.1)\n",
      "Requirement already satisfied: langchain==0.2.1 in /home/jupyter/.local/lib/python3.10/site-packages (from yandex_chain) (0.2.1)\n",
      "Requirement already satisfied: tenacity in /usr/local/lib/python3.10/dist-packages (from yandex_chain) (8.2.2)\n",
      "Requirement already satisfied: PyYAML>=5.3 in /usr/local/lib/python3.10/dist-packages (from langchain==0.2.1->yandex_chain) (6.0.1)\n",
      "Requirement already satisfied: SQLAlchemy<3,>=1.4 in /usr/local/lib/python3.10/dist-packages (from langchain==0.2.1->yandex_chain) (2.0.19)\n",
      "Requirement already satisfied: aiohttp<4.0.0,>=3.8.3 in /usr/local/lib/python3.10/dist-packages (from langchain==0.2.1->yandex_chain) (3.8.5)\n",
      "Requirement already satisfied: async-timeout<5.0.0,>=4.0.0 in /usr/local/lib/python3.10/dist-packages (from langchain==0.2.1->yandex_chain) (4.0.2)\n",
      "Requirement already satisfied: langchain-core<0.3.0,>=0.2.0 in /home/jupyter/.local/lib/python3.10/site-packages (from langchain==0.2.1->yandex_chain) (0.2.2)\n",
      "Requirement already satisfied: langchain-text-splitters<0.3.0,>=0.2.0 in /home/jupyter/.local/lib/python3.10/site-packages (from langchain==0.2.1->yandex_chain) (0.2.0)\n",
      "Requirement already satisfied: langsmith<0.2.0,>=0.1.17 in /home/jupyter/.local/lib/python3.10/site-packages (from langchain==0.2.1->yandex_chain) (0.1.65)\n",
      "Requirement already satisfied: numpy<2,>=1 in /usr/local/lib/python3.10/dist-packages (from langchain==0.2.1->yandex_chain) (1.22.4)\n",
      "Requirement already satisfied: pydantic<3,>=1 in /usr/local/lib/python3.10/dist-packages (from langchain==0.2.1->yandex_chain) (1.10.12)\n",
      "Requirement already satisfied: urllib3<1.27,>=1.21.1 in /usr/local/lib/python3.10/dist-packages (from requests->yandex_chain) (1.26.16)\n",
      "Requirement already satisfied: certifi>=2017.4.17 in /usr/local/lib/python3.10/dist-packages (from requests->yandex_chain) (2023.7.22)\n",
      "Requirement already satisfied: charset-normalizer~=2.0.0 in /usr/local/lib/python3.10/dist-packages (from requests->yandex_chain) (2.0.12)\n",
      "Requirement already satisfied: idna<4,>=2.5 in /usr/local/lib/python3.10/dist-packages (from requests->yandex_chain) (3.4)\n",
      "Requirement already satisfied: attrs>=17.3.0 in /usr/local/lib/python3.10/dist-packages (from aiohttp<4.0.0,>=3.8.3->langchain==0.2.1->yandex_chain) (23.1.0)\n",
      "Requirement already satisfied: multidict<7.0,>=4.5 in /usr/local/lib/python3.10/dist-packages (from aiohttp<4.0.0,>=3.8.3->langchain==0.2.1->yandex_chain) (6.0.4)\n",
      "Requirement already satisfied: yarl<2.0,>=1.0 in /usr/local/lib/python3.10/dist-packages (from aiohttp<4.0.0,>=3.8.3->langchain==0.2.1->yandex_chain) (1.9.2)\n",
      "Requirement already satisfied: frozenlist>=1.1.1 in /usr/local/lib/python3.10/dist-packages (from aiohttp<4.0.0,>=3.8.3->langchain==0.2.1->yandex_chain) (1.4.0)\n",
      "Requirement already satisfied: aiosignal>=1.1.2 in /usr/local/lib/python3.10/dist-packages (from aiohttp<4.0.0,>=3.8.3->langchain==0.2.1->yandex_chain) (1.3.1)\n",
      "Requirement already satisfied: jsonpatch<2.0,>=1.33 in /home/jupyter/.local/lib/python3.10/site-packages (from langchain-core<0.3.0,>=0.2.0->langchain==0.2.1->yandex_chain) (1.33)\n",
      "Requirement already satisfied: packaging<24.0,>=23.2 in /home/jupyter/.local/lib/python3.10/site-packages (from langchain-core<0.3.0,>=0.2.0->langchain==0.2.1->yandex_chain) (23.2)\n",
      "Requirement already satisfied: orjson<4.0.0,>=3.9.14 in /home/jupyter/.local/lib/python3.10/site-packages (from langsmith<0.2.0,>=0.1.17->langchain==0.2.1->yandex_chain) (3.10.3)\n",
      "Requirement already satisfied: typing-extensions>=4.2.0 in /usr/local/lib/python3.10/dist-packages (from pydantic<3,>=1->langchain==0.2.1->yandex_chain) (4.7.1)\n",
      "Requirement already satisfied: greenlet!=0.4.17 in /usr/local/lib/python3.10/dist-packages (from SQLAlchemy<3,>=1.4->langchain==0.2.1->yandex_chain) (2.0.2)\n",
      "Requirement already satisfied: jsonpointer>=1.9 in /home/jupyter/.local/lib/python3.10/site-packages (from jsonpatch<2.0,>=1.33->langchain-core<0.3.0,>=0.2.0->langchain==0.2.1->yandex_chain) (2.4)\n",
      "\n",
      "\u001b[1m[\u001b[0m\u001b[34;49mnotice\u001b[0m\u001b[1;39;49m]\u001b[0m\u001b[39;49m A new release of pip is available: \u001b[0m\u001b[31;49m23.0.1\u001b[0m\u001b[39;49m -> \u001b[0m\u001b[32;49m24.0\u001b[0m\n",
      "\u001b[1m[\u001b[0m\u001b[34;49mnotice\u001b[0m\u001b[1;39;49m]\u001b[0m\u001b[39;49m To update, run: \u001b[0m\u001b[32;49mpython3 -m pip install --upgrade pip\u001b[0m\n"
     ]
    }
   ],
   "source": [
    "%pip install yandex_chain "
   ]
  },
  {
   "cell_type": "code",
   "execution_count": 5,
   "id": "2dc68651-218a-4ea7-9b3a-4f6950d99603",
   "metadata": {
    "execution": {
     "iopub.execute_input": "2024-05-31T23:27:18.661121Z",
     "iopub.status.busy": "2024-05-31T23:27:18.659875Z",
     "iopub.status.idle": "2024-05-31T23:27:21.591173Z",
     "shell.execute_reply": "2024-05-31T23:27:21.590250Z",
     "shell.execute_reply.started": "2024-05-31T23:27:18.661079Z"
    },
    "tags": []
   },
   "outputs": [
    {
     "data": {
      "text/plain": [
       "'**Создайте иллюстрацию, на которой изображён человек с флагом в руках, стоящий на фоне карты региона «Чан-Цин» и смотрящий в сторону горизонта. Человек символизирует прогресс и развитие, флаг — внимание со стороны государства.**\\n\\n**На карте должны быть отмечены границы трёх провинций (Чжэцзян, Цзянсу, Аньхой) и одного города (Шанхай).**'"
      ]
     },
     "execution_count": 5,
     "metadata": {},
     "output_type": "execute_result"
    }
   ],
   "source": [
    "from yandex_chain import YandexLLM, YandexGPTModel\n",
    "\n",
    "folder_id = \"b1gst3c7cskk2big5fqn\"\n",
    "\n",
    "gpt = YandexLLM(folder_id=folder_id, api_key=os.environ['api_key'], model=YandexGPTModel.Pro)\n",
    "gpt.instruction_text=\"\"\"\n",
    "Ты - профессиональный редактор новостей. Твоя задача - понять, какая картинка подойдёт\n",
    "к конкретной новости, и написать её краткой описание в виде промпта для генеративной нейросети YandexART.\n",
    "Прочитай текст новости ниже и напиши промпт с описанием релевантной картинки. В промпте должны быть\n",
    "чёткие описание конкретных объектов, которые необходимо нарисовать. В качестве ответа выведи только\n",
    "текст промпта для Yandex ART, не пиши никакого дополнительного текста. Промпт должен быть короткий, не более\n",
    "5 строчек текста.\n",
    "\"\"\"\n",
    "res = gpt.invoke(text)\n",
    "res"
   ]
  },
  {
   "cell_type": "code",
   "execution_count": 6,
   "id": "57a76105-1008-4640-be8d-9e40b40c35a7",
   "metadata": {
    "execution": {
     "iopub.execute_input": "2024-05-31T23:27:22.901670Z",
     "iopub.status.busy": "2024-05-31T23:27:22.900571Z",
     "iopub.status.idle": "2024-05-31T23:27:23.335818Z",
     "shell.execute_reply": "2024-05-31T23:27:23.335138Z",
     "shell.execute_reply.started": "2024-05-31T23:27:22.901628Z"
    },
    "tags": []
   },
   "outputs": [],
   "source": [
    "def submit_art(prompt):\n",
    "    res = call_api(\"https://llm.api.cloud.yandex.net/foundationModels/v1/imageGenerationAsync\",\n",
    "    {\n",
    "        \"modelUri\": f\"art://{folder_id}/yandex-art/latest\",\n",
    "        \"messages\": [\n",
    "          {\n",
    "            \"weight\": 1,\n",
    "            \"text\": prompt\n",
    "          }\n",
    "        ]\n",
    "    })\n",
    "    if 'error' in res:\n",
    "        return None\n",
    "    return res['id']\n",
    "\n",
    "id = submit_art(res)\n",
    "id"
   ]
  },
  {
   "cell_type": "code",
   "execution_count": 12,
   "id": "b5ebfd9d-763e-4171-ba82-990dca97cfb8",
   "metadata": {
    "execution": {
     "iopub.execute_input": "2024-05-31T23:28:13.098816Z",
     "iopub.status.busy": "2024-05-31T23:28:13.098224Z",
     "iopub.status.idle": "2024-05-31T23:28:13.123978Z",
     "shell.execute_reply": "2024-05-31T23:28:13.123285Z",
     "shell.execute_reply.started": "2024-05-31T23:28:13.098781Z"
    },
    "tags": []
   },
   "outputs": [
    {
     "data": {
      "text/plain": [
       "(None, None)"
      ]
     },
     "execution_count": 12,
     "metadata": {},
     "output_type": "execute_result"
    }
   ],
   "source": [
    "import io\n",
    "from PIL import Image\n",
    "import base64\n",
    "\n",
    "def call_api_get(url, data):\n",
    "    headers = { \"Authorization\" : f\"Api-Key {os.environ['api_key']}\" }\n",
    "    return requests.get(url, headers=headers).json()\n",
    "\n",
    "def decode_image(base64_str):\n",
    "    return Image.open(io.BytesIO(base64.decodebytes(bytes(base64_str, \"utf-8\"))))\n",
    "\n",
    "def check(id):\n",
    "    res = call_api_get(f\"https://llm.api.cloud.yandex.net:443/operations/{id}\",{})\n",
    "    if 'done' in res and res['done']:\n",
    "        return decode_image(res['response']['image'])\n",
    "    else:\n",
    "        return None\n",
    "    \n",
    "res = check(id)\n",
    "res"
   ]
  },
  {
   "cell_type": "code",
   "execution_count": 23,
   "id": "6639b2a5-716b-4017-bc9c-8aeebb4fa696",
   "metadata": {
    "execution": {
     "iopub.execute_input": "2024-05-31T22:52:28.854212Z",
     "iopub.status.busy": "2024-05-31T22:52:28.852999Z",
     "iopub.status.idle": "2024-05-31T22:52:34.076359Z",
     "shell.execute_reply": "2024-05-31T22:52:34.075511Z",
     "shell.execute_reply.started": "2024-05-31T22:52:28.854154Z"
    }
   },
   "outputs": [
    {
     "name": "stdout",
     "output_type": "stream",
     "text": [
      "Defaulting to user installation because normal site-packages is not writeable\n",
      "Collecting telebot\n",
      "  Downloading telebot-0.0.5-py3-none-any.whl.metadata (2.0 kB)\n",
      "Collecting pyTelegramBotAPI (from telebot)\n",
      "  Downloading pytelegrambotapi-4.18.1-py3-none-any.whl.metadata (48 kB)\n",
      "\u001b[2K     \u001b[90m━━━━━━━━━━━━━━━━━━━━━━━━━━━━━━━━━━━━━━━\u001b[0m \u001b[32m48.1/48.1 kB\u001b[0m \u001b[31m555.0 kB/s\u001b[0m eta \u001b[36m0:00:00\u001b[0m \u001b[36m0:00:01\u001b[0m\n",
      "\u001b[?25hRequirement already satisfied: requests in /usr/local/lib/python3.10/dist-packages (from telebot) (2.27.1)\n",
      "Requirement already satisfied: urllib3<1.27,>=1.21.1 in /usr/local/lib/python3.10/dist-packages (from requests->telebot) (1.26.16)\n",
      "Requirement already satisfied: certifi>=2017.4.17 in /usr/local/lib/python3.10/dist-packages (from requests->telebot) (2023.7.22)\n",
      "Requirement already satisfied: charset-normalizer~=2.0.0 in /usr/local/lib/python3.10/dist-packages (from requests->telebot) (2.0.12)\n",
      "Requirement already satisfied: idna<4,>=2.5 in /usr/local/lib/python3.10/dist-packages (from requests->telebot) (3.4)\n",
      "Downloading telebot-0.0.5-py3-none-any.whl (4.8 kB)\n",
      "Downloading pytelegrambotapi-4.18.1-py3-none-any.whl (242 kB)\n",
      "\u001b[2K   \u001b[90m━━━━━━━━━━━━━━━━━━━━━━━━━━━━━━━━━━━━━━━━\u001b[0m \u001b[32m242.9/242.9 kB\u001b[0m \u001b[31m1.5 MB/s\u001b[0m eta \u001b[36m0:00:00\u001b[0ma \u001b[36m0:00:01\u001b[0m\n",
      "\u001b[?25hInstalling collected packages: pyTelegramBotAPI, telebot\n",
      "Successfully installed pyTelegramBotAPI-4.18.1 telebot-0.0.5\n",
      "\n",
      "\u001b[1m[\u001b[0m\u001b[34;49mnotice\u001b[0m\u001b[1;39;49m]\u001b[0m\u001b[39;49m A new release of pip is available: \u001b[0m\u001b[31;49m23.0.1\u001b[0m\u001b[39;49m -> \u001b[0m\u001b[32;49m24.0\u001b[0m\n",
      "\u001b[1m[\u001b[0m\u001b[34;49mnotice\u001b[0m\u001b[1;39;49m]\u001b[0m\u001b[39;49m To update, run: \u001b[0m\u001b[32;49mpython3 -m pip install --upgrade pip\u001b[0m\n"
     ]
    }
   ],
   "source": [
    "%pip install telebot"
   ]
  },
  {
   "cell_type": "code",
   "execution_count": 32,
   "id": "72ca881a-0041-4928-a00a-d50ea51c948d",
   "metadata": {
    "execution": {
     "iopub.execute_input": "2024-05-31T23:06:51.133883Z",
     "iopub.status.busy": "2024-05-31T23:06:51.132882Z",
     "iopub.status.idle": "2024-05-31T23:08:30.929022Z",
     "shell.execute_reply": "2024-05-31T23:08:30.928115Z",
     "shell.execute_reply.started": "2024-05-31T23:06:51.133842Z"
    },
    "tags": []
   },
   "outputs": [
    {
     "name": "stdout",
     "output_type": "stream",
     "text": [
      "Translating\n",
      "Extracting prompt\n",
      "Sumbitting to ART\n",
      "Translating\n",
      "Extracting prompt\n",
      "Sumbitting to ART\n",
      "Checking\n",
      "Checking\n",
      "Checking\n",
      "Checking\n"
     ]
    }
   ],
   "source": [
    "import telebot, time\n",
    "from io import BytesIO\n",
    "\n",
    "bot = telebot.TeleBot(os.environ['tg_token'])\n",
    "\n",
    "@bot.message_handler(content_types=['text'])\n",
    "def get_text_messages(message):\n",
    "    if message=='/start':\n",
    "        bot.send_message(message.from_user.id, f\"Yo!\")\n",
    "        return\n",
    "    print('Translating')\n",
    "    text_ru = translate(message.text)\n",
    "    print('Extracting prompt')\n",
    "    res = gpt.invoke(text_ru)\n",
    "    bot.send_message(message.from_user.id, f\"Я побежал рисовать по запросу {res}\")\n",
    "    print('Sumbitting to ART')\n",
    "    id = submit_art(res)\n",
    "    if not id:\n",
    "        bot.send_message(message.from_user.id, f\"Что-то пошло не так\")\n",
    "        return\n",
    "    while True:\n",
    "        time.sleep(5)\n",
    "        print('Checking')\n",
    "        res = check(id)\n",
    "        if res:\n",
    "            break\n",
    "    bio = BytesIO()\n",
    "    bio.name = 'image.jpeg'\n",
    "    res.save(bio, 'JPEG')\n",
    "    bio.seek(0)\n",
    "    bot.send_photo(message.from_user.id, photo=bio)\n",
    "    \n",
    "bot.polling(non_stop=True, interval=2)\n",
    "        "
   ]
  },
  {
   "cell_type": "code",
   "execution_count": 34,
   "id": "549bc663-f06e-40f8-b455-fdffc630f518",
   "metadata": {
    "execution": {
     "iopub.execute_input": "2024-05-31T23:20:34.037461Z",
     "iopub.status.busy": "2024-05-31T23:20:34.036626Z",
     "iopub.status.idle": "2024-05-31T23:20:58.519135Z",
     "shell.execute_reply": "2024-05-31T23:20:58.518199Z",
     "shell.execute_reply.started": "2024-05-31T23:20:34.037425Z"
    }
   },
   "outputs": [
    {
     "name": "stdout",
     "output_type": "stream",
     "text": [
      "Defaulting to user installation because normal site-packages is not writeable\n",
      "Collecting gradio\n",
      "  Downloading gradio-4.32.1-py3-none-any.whl.metadata (15 kB)\n",
      "Collecting aiofiles<24.0,>=22.0 (from gradio)\n",
      "  Downloading aiofiles-23.2.1-py3-none-any.whl.metadata (9.7 kB)\n",
      "Requirement already satisfied: altair<6.0,>=4.2.0 in /usr/local/lib/python3.10/dist-packages (from gradio) (4.2.2)\n",
      "Collecting fastapi (from gradio)\n",
      "  Downloading fastapi-0.111.0-py3-none-any.whl.metadata (25 kB)\n",
      "Collecting ffmpy (from gradio)\n",
      "  Downloading ffmpy-0.3.2.tar.gz (5.5 kB)\n",
      "  Preparing metadata (setup.py) ... \u001b[?25ldone\n",
      "\u001b[?25hCollecting gradio-client==0.17.0 (from gradio)\n",
      "  Downloading gradio_client-0.17.0-py3-none-any.whl.metadata (7.1 kB)\n",
      "Collecting httpx>=0.24.1 (from gradio)\n",
      "  Downloading httpx-0.27.0-py3-none-any.whl.metadata (7.2 kB)\n",
      "Collecting huggingface-hub>=0.19.3 (from gradio)\n",
      "  Downloading huggingface_hub-0.23.2-py3-none-any.whl.metadata (12 kB)\n",
      "Requirement already satisfied: importlib-resources<7.0,>=1.3 in /usr/local/lib/python3.10/dist-packages (from gradio) (6.0.0)\n",
      "Requirement already satisfied: jinja2<4.0 in /usr/local/lib/python3.10/dist-packages (from gradio) (3.1.2)\n",
      "Requirement already satisfied: markupsafe~=2.0 in /usr/local/lib/python3.10/dist-packages (from gradio) (2.1.3)\n",
      "Requirement already satisfied: matplotlib~=3.0 in /usr/local/lib/python3.10/dist-packages (from gradio) (3.7.1)\n",
      "Requirement already satisfied: numpy~=1.0 in /usr/local/lib/python3.10/dist-packages (from gradio) (1.22.4)\n",
      "Requirement already satisfied: orjson~=3.0 in /home/jupyter/.local/lib/python3.10/site-packages (from gradio) (3.10.3)\n",
      "Requirement already satisfied: packaging in /home/jupyter/.local/lib/python3.10/site-packages (from gradio) (23.2)\n",
      "Requirement already satisfied: pandas<3.0,>=1.0 in /usr/local/lib/python3.10/dist-packages (from gradio) (1.5.3)\n",
      "Requirement already satisfied: pillow<11.0,>=8.0 in /usr/local/lib/python3.10/dist-packages (from gradio) (9.4.0)\n",
      "Collecting pydantic>=2.0 (from gradio)\n",
      "  Downloading pydantic-2.7.2-py3-none-any.whl.metadata (108 kB)\n",
      "\u001b[2K     \u001b[90m━━━━━━━━━━━━━━━━━━━━━━━━━━━━━━━━━━━━━━━\u001b[0m \u001b[32m108.5/108.5 kB\u001b[0m \u001b[31m1.3 MB/s\u001b[0m eta \u001b[36m0:00:00\u001b[0ma \u001b[36m0:00:01\u001b[0m\n",
      "\u001b[?25hCollecting pydub (from gradio)\n",
      "  Downloading pydub-0.25.1-py2.py3-none-any.whl.metadata (1.4 kB)\n",
      "Collecting python-multipart>=0.0.9 (from gradio)\n",
      "  Downloading python_multipart-0.0.9-py3-none-any.whl.metadata (2.5 kB)\n",
      "Requirement already satisfied: pyyaml<7.0,>=5.0 in /usr/local/lib/python3.10/dist-packages (from gradio) (6.0.1)\n",
      "Collecting ruff>=0.2.2 (from gradio)\n",
      "  Downloading ruff-0.4.7-py3-none-manylinux_2_17_x86_64.manylinux2014_x86_64.whl.metadata (24 kB)\n",
      "Collecting semantic-version~=2.0 (from gradio)\n",
      "  Downloading semantic_version-2.10.0-py2.py3-none-any.whl.metadata (9.7 kB)\n",
      "Collecting tomlkit==0.12.0 (from gradio)\n",
      "  Downloading tomlkit-0.12.0-py3-none-any.whl.metadata (2.7 kB)\n",
      "Collecting typer<1.0,>=0.12 (from gradio)\n",
      "  Downloading typer-0.12.3-py3-none-any.whl.metadata (15 kB)\n",
      "Requirement already satisfied: typing-extensions~=4.0 in /usr/local/lib/python3.10/dist-packages (from gradio) (4.7.1)\n",
      "Collecting urllib3~=2.0 (from gradio)\n",
      "  Downloading urllib3-2.2.1-py3-none-any.whl.metadata (6.4 kB)\n",
      "Collecting uvicorn>=0.14.0 (from gradio)\n",
      "  Downloading uvicorn-0.30.0-py3-none-any.whl.metadata (6.3 kB)\n",
      "Requirement already satisfied: fsspec in /usr/local/lib/python3.10/dist-packages (from gradio-client==0.17.0->gradio) (2023.6.0)\n",
      "Collecting websockets<12.0,>=10.0 (from gradio-client==0.17.0->gradio)\n",
      "  Downloading websockets-11.0.3-cp310-cp310-manylinux_2_5_x86_64.manylinux1_x86_64.manylinux_2_17_x86_64.manylinux2014_x86_64.whl.metadata (6.6 kB)\n",
      "Requirement already satisfied: entrypoints in /usr/local/lib/python3.10/dist-packages (from altair<6.0,>=4.2.0->gradio) (0.4)\n",
      "Requirement already satisfied: jsonschema>=3.0 in /usr/local/lib/python3.10/dist-packages (from altair<6.0,>=4.2.0->gradio) (4.3.3)\n",
      "Requirement already satisfied: toolz in /usr/local/lib/python3.10/dist-packages (from altair<6.0,>=4.2.0->gradio) (0.12.0)\n",
      "Requirement already satisfied: anyio in /usr/local/lib/python3.10/dist-packages (from httpx>=0.24.1->gradio) (3.7.1)\n",
      "Requirement already satisfied: certifi in /usr/local/lib/python3.10/dist-packages (from httpx>=0.24.1->gradio) (2023.7.22)\n",
      "Collecting httpcore==1.* (from httpx>=0.24.1->gradio)\n",
      "  Downloading httpcore-1.0.5-py3-none-any.whl.metadata (20 kB)\n",
      "Requirement already satisfied: idna in /usr/local/lib/python3.10/dist-packages (from httpx>=0.24.1->gradio) (3.4)\n",
      "Requirement already satisfied: sniffio in /usr/local/lib/python3.10/dist-packages (from httpx>=0.24.1->gradio) (1.3.0)\n",
      "Collecting h11<0.15,>=0.13 (from httpcore==1.*->httpx>=0.24.1->gradio)\n",
      "  Downloading h11-0.14.0-py3-none-any.whl.metadata (8.2 kB)\n",
      "Requirement already satisfied: filelock in /usr/local/lib/python3.10/dist-packages (from huggingface-hub>=0.19.3->gradio) (3.12.2)\n",
      "Requirement already satisfied: requests in /usr/local/lib/python3.10/dist-packages (from huggingface-hub>=0.19.3->gradio) (2.27.1)\n",
      "Requirement already satisfied: tqdm>=4.42.1 in /usr/local/lib/python3.10/dist-packages (from huggingface-hub>=0.19.3->gradio) (4.65.0)\n",
      "Requirement already satisfied: contourpy>=1.0.1 in /usr/local/lib/python3.10/dist-packages (from matplotlib~=3.0->gradio) (1.1.0)\n",
      "Requirement already satisfied: cycler>=0.10 in /usr/local/lib/python3.10/dist-packages (from matplotlib~=3.0->gradio) (0.11.0)\n",
      "Requirement already satisfied: fonttools>=4.22.0 in /usr/local/lib/python3.10/dist-packages (from matplotlib~=3.0->gradio) (4.41.1)\n",
      "Requirement already satisfied: kiwisolver>=1.0.1 in /usr/local/lib/python3.10/dist-packages (from matplotlib~=3.0->gradio) (1.4.4)\n",
      "Requirement already satisfied: pyparsing>=2.3.1 in /usr/local/lib/python3.10/dist-packages (from matplotlib~=3.0->gradio) (3.1.0)\n",
      "Requirement already satisfied: python-dateutil>=2.7 in /usr/local/lib/python3.10/dist-packages (from matplotlib~=3.0->gradio) (2.8.2)\n",
      "Requirement already satisfied: pytz>=2020.1 in /usr/local/lib/python3.10/dist-packages (from pandas<3.0,>=1.0->gradio) (2022.7.1)\n",
      "Collecting annotated-types>=0.4.0 (from pydantic>=2.0->gradio)\n",
      "  Downloading annotated_types-0.7.0-py3-none-any.whl.metadata (15 kB)\n",
      "Collecting pydantic-core==2.18.3 (from pydantic>=2.0->gradio)\n",
      "  Downloading pydantic_core-2.18.3-cp310-cp310-manylinux_2_17_x86_64.manylinux2014_x86_64.whl.metadata (6.5 kB)\n",
      "Requirement already satisfied: click>=8.0.0 in /usr/local/lib/python3.10/dist-packages (from typer<1.0,>=0.12->gradio) (8.1.6)\n",
      "Collecting shellingham>=1.3.0 (from typer<1.0,>=0.12->gradio)\n",
      "  Downloading shellingham-1.5.4-py2.py3-none-any.whl.metadata (3.5 kB)\n",
      "Requirement already satisfied: rich>=10.11.0 in /usr/local/lib/python3.10/dist-packages (from typer<1.0,>=0.12->gradio) (13.4.2)\n",
      "Collecting starlette<0.38.0,>=0.37.2 (from fastapi->gradio)\n",
      "  Downloading starlette-0.37.2-py3-none-any.whl.metadata (5.9 kB)\n",
      "Collecting typing-extensions~=4.0 (from gradio)\n",
      "  Downloading typing_extensions-4.12.0-py3-none-any.whl.metadata (3.0 kB)\n",
      "Collecting fastapi-cli>=0.0.2 (from fastapi->gradio)\n",
      "  Downloading fastapi_cli-0.0.4-py3-none-any.whl.metadata (7.0 kB)\n",
      "Collecting ujson!=4.0.2,!=4.1.0,!=4.2.0,!=4.3.0,!=5.0.0,!=5.1.0,>=4.0.1 (from fastapi->gradio)\n",
      "  Downloading ujson-5.10.0-cp310-cp310-manylinux_2_17_x86_64.manylinux2014_x86_64.whl.metadata (9.3 kB)\n",
      "Collecting email_validator>=2.0.0 (from fastapi->gradio)\n",
      "  Downloading email_validator-2.1.1-py3-none-any.whl.metadata (26 kB)\n",
      "Collecting dnspython>=2.0.0 (from email_validator>=2.0.0->fastapi->gradio)\n",
      "  Downloading dnspython-2.6.1-py3-none-any.whl.metadata (5.8 kB)\n",
      "Requirement already satisfied: attrs>=17.4.0 in /usr/local/lib/python3.10/dist-packages (from jsonschema>=3.0->altair<6.0,>=4.2.0->gradio) (23.1.0)\n",
      "Requirement already satisfied: pyrsistent!=0.17.0,!=0.17.1,!=0.17.2,>=0.14.0 in /usr/local/lib/python3.10/dist-packages (from jsonschema>=3.0->altair<6.0,>=4.2.0->gradio) (0.19.3)\n",
      "Requirement already satisfied: six>=1.5 in /usr/lib/python3/dist-packages (from python-dateutil>=2.7->matplotlib~=3.0->gradio) (1.16.0)\n",
      "Requirement already satisfied: markdown-it-py>=2.2.0 in /usr/local/lib/python3.10/dist-packages (from rich>=10.11.0->typer<1.0,>=0.12->gradio) (3.0.0)\n",
      "Requirement already satisfied: pygments<3.0.0,>=2.13.0 in /usr/local/lib/python3.10/dist-packages (from rich>=10.11.0->typer<1.0,>=0.12->gradio) (2.14.0)\n",
      "Requirement already satisfied: exceptiongroup in /usr/local/lib/python3.10/dist-packages (from anyio->httpx>=0.24.1->gradio) (1.1.2)\n",
      "Collecting httptools>=0.5.0 (from uvicorn[standard]>=0.12.0->fastapi->gradio)\n",
      "  Downloading httptools-0.6.1-cp310-cp310-manylinux_2_5_x86_64.manylinux1_x86_64.manylinux_2_17_x86_64.manylinux2014_x86_64.whl.metadata (3.6 kB)\n",
      "Collecting python-dotenv>=0.13 (from uvicorn[standard]>=0.12.0->fastapi->gradio)\n",
      "  Downloading python_dotenv-1.0.1-py3-none-any.whl.metadata (23 kB)\n",
      "Collecting uvloop!=0.15.0,!=0.15.1,>=0.14.0 (from uvicorn[standard]>=0.12.0->fastapi->gradio)\n",
      "  Downloading uvloop-0.19.0-cp310-cp310-manylinux_2_17_x86_64.manylinux2014_x86_64.whl.metadata (4.9 kB)\n",
      "Collecting watchfiles>=0.13 (from uvicorn[standard]>=0.12.0->fastapi->gradio)\n",
      "  Downloading watchfiles-0.22.0-cp310-cp310-manylinux_2_17_x86_64.manylinux2014_x86_64.whl.metadata (4.9 kB)\n",
      "INFO: pip is looking at multiple versions of requests to determine which version is compatible with other requirements. This could take a while.\n",
      "Collecting requests (from huggingface-hub>=0.19.3->gradio)\n",
      "  Downloading requests-2.32.3-py3-none-any.whl.metadata (4.6 kB)\n",
      "Requirement already satisfied: charset-normalizer<4,>=2 in /usr/local/lib/python3.10/dist-packages (from requests->huggingface-hub>=0.19.3->gradio) (2.0.12)\n",
      "Requirement already satisfied: mdurl~=0.1 in /usr/local/lib/python3.10/dist-packages (from markdown-it-py>=2.2.0->rich>=10.11.0->typer<1.0,>=0.12->gradio) (0.1.2)\n",
      "Downloading gradio-4.32.1-py3-none-any.whl (12.3 MB)\n",
      "\u001b[2K   \u001b[90m━━━━━━━━━━━━━━━━━━━━━━━━━━━━━━━━━━━━━━━━\u001b[0m \u001b[32m12.3/12.3 MB\u001b[0m \u001b[31m54.6 MB/s\u001b[0m eta \u001b[36m0:00:00\u001b[0m00:01\u001b[0m00:01\u001b[0m\n",
      "\u001b[?25hDownloading gradio_client-0.17.0-py3-none-any.whl (316 kB)\n",
      "\u001b[2K   \u001b[90m━━━━━━━━━━━━━━━━━━━━━━━━━━━━━━━━━━━━━━━━\u001b[0m \u001b[32m316.3/316.3 kB\u001b[0m \u001b[31m16.0 MB/s\u001b[0m eta \u001b[36m0:00:00\u001b[0m\n",
      "\u001b[?25hDownloading tomlkit-0.12.0-py3-none-any.whl (37 kB)\n",
      "Downloading aiofiles-23.2.1-py3-none-any.whl (15 kB)\n",
      "Downloading httpx-0.27.0-py3-none-any.whl (75 kB)\n",
      "\u001b[2K   \u001b[90m━━━━━━━━━━━━━━━━━━━━━━━━━━━━━━━━━━━━━━━━\u001b[0m \u001b[32m75.6/75.6 kB\u001b[0m \u001b[31m3.7 MB/s\u001b[0m eta \u001b[36m0:00:00\u001b[0m\n",
      "\u001b[?25hDownloading httpcore-1.0.5-py3-none-any.whl (77 kB)\n",
      "\u001b[2K   \u001b[90m━━━━━━━━━━━━━━━━━━━━━━━━━━━━━━━━━━━━━━━━\u001b[0m \u001b[32m77.9/77.9 kB\u001b[0m \u001b[31m11.6 MB/s\u001b[0m eta \u001b[36m0:00:00\u001b[0m\n",
      "\u001b[?25hDownloading huggingface_hub-0.23.2-py3-none-any.whl (401 kB)\n",
      "\u001b[2K   \u001b[90m━━━━━━━━━━━━━━━━━━━━━━━━━━━━━━━━━━━━━━━━\u001b[0m \u001b[32m401.7/401.7 kB\u001b[0m \u001b[31m32.9 MB/s\u001b[0m eta \u001b[36m0:00:00\u001b[0m\n",
      "\u001b[?25hDownloading pydantic-2.7.2-py3-none-any.whl (409 kB)\n",
      "\u001b[2K   \u001b[90m━━━━━━━━━━━━━━━━━━━━━━━━━━━━━━━━━━━━━━━━\u001b[0m \u001b[32m409.5/409.5 kB\u001b[0m \u001b[31m45.8 MB/s\u001b[0m eta \u001b[36m0:00:00\u001b[0m\n",
      "\u001b[?25hDownloading pydantic_core-2.18.3-cp310-cp310-manylinux_2_17_x86_64.manylinux2014_x86_64.whl (2.0 MB)\n",
      "\u001b[2K   \u001b[90m━━━━━━━━━━━━━━━━━━━━━━━━━━━━━━━━━━━━━━━━\u001b[0m \u001b[32m2.0/2.0 MB\u001b[0m \u001b[31m53.4 MB/s\u001b[0m eta \u001b[36m0:00:00\u001b[0m:00:01\u001b[0m\n",
      "\u001b[?25hDownloading python_multipart-0.0.9-py3-none-any.whl (22 kB)\n",
      "Downloading ruff-0.4.7-py3-none-manylinux_2_17_x86_64.manylinux2014_x86_64.whl (8.8 MB)\n",
      "\u001b[2K   \u001b[90m━━━━━━━━━━━━━━━━━━━━━━━━━━━━━━━━━━━━━━━━\u001b[0m \u001b[32m8.8/8.8 MB\u001b[0m \u001b[31m58.0 MB/s\u001b[0m eta \u001b[36m0:00:00\u001b[0m00:01\u001b[0m00:01\u001b[0mm\n",
      "\u001b[?25hDownloading semantic_version-2.10.0-py2.py3-none-any.whl (15 kB)\n",
      "Downloading typer-0.12.3-py3-none-any.whl (47 kB)\n",
      "\u001b[2K   \u001b[90m━━━━━━━━━━━━━━━━━━━━━━━━━━━━━━━━━━━━━━━━\u001b[0m \u001b[32m47.2/47.2 kB\u001b[0m \u001b[31m2.3 MB/s\u001b[0m eta \u001b[36m0:00:00\u001b[0m\n",
      "\u001b[?25hDownloading urllib3-2.2.1-py3-none-any.whl (121 kB)\n",
      "\u001b[2K   \u001b[90m━━━━━━━━━━━━━━━━━━━━━━━━━━━━━━━━━━━━━━━━\u001b[0m \u001b[32m121.1/121.1 kB\u001b[0m \u001b[31m11.8 MB/s\u001b[0m eta \u001b[36m0:00:00\u001b[0m\n",
      "\u001b[?25hDownloading uvicorn-0.30.0-py3-none-any.whl (62 kB)\n",
      "\u001b[2K   \u001b[90m━━━━━━━━━━━━━━━━━━━━━━━━━━━━━━━━━━━━━━━━\u001b[0m \u001b[32m62.4/62.4 kB\u001b[0m \u001b[31m9.8 MB/s\u001b[0m eta \u001b[36m0:00:00\u001b[0m\n",
      "\u001b[?25hDownloading fastapi-0.111.0-py3-none-any.whl (91 kB)\n",
      "\u001b[2K   \u001b[90m━━━━━━━━━━━━━━━━━━━━━━━━━━━━━━━━━━━━━━━━\u001b[0m \u001b[32m92.0/92.0 kB\u001b[0m \u001b[31m11.9 MB/s\u001b[0m eta \u001b[36m0:00:00\u001b[0m\n",
      "\u001b[?25hDownloading typing_extensions-4.12.0-py3-none-any.whl (37 kB)\n",
      "Downloading pydub-0.25.1-py2.py3-none-any.whl (32 kB)\n",
      "Downloading annotated_types-0.7.0-py3-none-any.whl (13 kB)\n",
      "Downloading email_validator-2.1.1-py3-none-any.whl (30 kB)\n",
      "Downloading fastapi_cli-0.0.4-py3-none-any.whl (9.5 kB)\n",
      "Downloading h11-0.14.0-py3-none-any.whl (58 kB)\n",
      "\u001b[2K   \u001b[90m━━━━━━━━━━━━━━━━━━━━━━━━━━━━━━━━━━━━━━━━\u001b[0m \u001b[32m58.3/58.3 kB\u001b[0m \u001b[31m2.7 MB/s\u001b[0m eta \u001b[36m0:00:00\u001b[0m\n",
      "\u001b[?25hDownloading shellingham-1.5.4-py2.py3-none-any.whl (9.8 kB)\n",
      "Downloading starlette-0.37.2-py3-none-any.whl (71 kB)\n",
      "\u001b[2K   \u001b[90m━━━━━━━━━━━━━━━━━━━━━━━━━━━━━━━━━━━━━━━━\u001b[0m \u001b[32m71.9/71.9 kB\u001b[0m \u001b[31m2.2 MB/s\u001b[0m eta \u001b[36m0:00:00\u001b[0m\n",
      "\u001b[?25hDownloading ujson-5.10.0-cp310-cp310-manylinux_2_17_x86_64.manylinux2014_x86_64.whl (53 kB)\n",
      "\u001b[2K   \u001b[90m━━━━━━━━━━━━━━━━━━━━━━━━━━━━━━━━━━━━━━━━\u001b[0m \u001b[32m53.6/53.6 kB\u001b[0m \u001b[31m1.3 MB/s\u001b[0m eta \u001b[36m0:00:00\u001b[0m\n",
      "\u001b[?25hDownloading websockets-11.0.3-cp310-cp310-manylinux_2_5_x86_64.manylinux1_x86_64.manylinux_2_17_x86_64.manylinux2014_x86_64.whl (129 kB)\n",
      "\u001b[2K   \u001b[90m━━━━━━━━━━━━━━━━━━━━━━━━━━━━━━━━━━━━━━━━\u001b[0m \u001b[32m129.9/129.9 kB\u001b[0m \u001b[31m3.3 MB/s\u001b[0m eta \u001b[36m0:00:00\u001b[0mta \u001b[36m0:00:01\u001b[0m\n",
      "\u001b[?25hDownloading requests-2.32.3-py3-none-any.whl (64 kB)\n",
      "\u001b[2K   \u001b[90m━━━━━━━━━━━━━━━━━━━━━━━━━━━━━━━━━━━━━━━━\u001b[0m \u001b[32m64.9/64.9 kB\u001b[0m \u001b[31m2.3 MB/s\u001b[0m eta \u001b[36m0:00:00\u001b[0m\n",
      "\u001b[?25hDownloading dnspython-2.6.1-py3-none-any.whl (307 kB)\n",
      "\u001b[2K   \u001b[90m━━━━━━━━━━━━━━━━━━━━━━━━━━━━━━━━━━━━━━━━\u001b[0m \u001b[32m307.7/307.7 kB\u001b[0m \u001b[31m14.9 MB/s\u001b[0m eta \u001b[36m0:00:00\u001b[0m\n",
      "\u001b[?25hDownloading httptools-0.6.1-cp310-cp310-manylinux_2_5_x86_64.manylinux1_x86_64.manylinux_2_17_x86_64.manylinux2014_x86_64.whl (341 kB)\n",
      "\u001b[2K   \u001b[90m━━━━━━━━━━━━━━━━━━━━━━━━━━━━━━━━━━━━━━━━\u001b[0m \u001b[32m341.4/341.4 kB\u001b[0m \u001b[31m13.7 MB/s\u001b[0m eta \u001b[36m0:00:00\u001b[0m\n",
      "\u001b[?25hDownloading python_dotenv-1.0.1-py3-none-any.whl (19 kB)\n",
      "Downloading uvloop-0.19.0-cp310-cp310-manylinux_2_17_x86_64.manylinux2014_x86_64.whl (3.4 MB)\n",
      "\u001b[2K   \u001b[90m━━━━━━━━━━━━━━━━━━━━━━━━━━━━━━━━━━━━━━━━\u001b[0m \u001b[32m3.4/3.4 MB\u001b[0m \u001b[31m34.8 MB/s\u001b[0m eta \u001b[36m0:00:00\u001b[0m00:01\u001b[0m:00:01\u001b[0m\n",
      "\u001b[?25hDownloading watchfiles-0.22.0-cp310-cp310-manylinux_2_17_x86_64.manylinux2014_x86_64.whl (1.2 MB)\n",
      "\u001b[2K   \u001b[90m━━━━━━━━━━━━━━━━━━━━━━━━━━━━━━━━━━━━━━━━\u001b[0m \u001b[32m1.2/1.2 MB\u001b[0m \u001b[31m88.2 MB/s\u001b[0m eta \u001b[36m0:00:00\u001b[0m\n",
      "\u001b[?25hBuilding wheels for collected packages: ffmpy\n",
      "  Building wheel for ffmpy (setup.py) ... \u001b[?25ldone\n",
      "\u001b[?25h  Created wheel for ffmpy: filename=ffmpy-0.3.2-py3-none-any.whl size=5582 sha256=72a0be45dadb5bc5c373e64b9dc07a054b109e588129bd6180939fdd8088f0a9\n",
      "  Stored in directory: /tmp/xdg_cache/pip/wheels/bd/65/9a/671fc6dcde07d4418df0c592f8df512b26d7a0029c2a23dd81\n",
      "Successfully built ffmpy\n",
      "Installing collected packages: pydub, ffmpy, websockets, uvloop, urllib3, ujson, typing-extensions, tomlkit, shellingham, semantic-version, ruff, python-multipart, python-dotenv, httptools, h11, dnspython, annotated-types, aiofiles, watchfiles, uvicorn, starlette, requests, pydantic-core, httpcore, email_validator, typer, pydantic, huggingface-hub, httpx, gradio-client, fastapi-cli, fastapi, gradio\n",
      "\u001b[33m  WARNING: The script dotenv is installed in '/home/jupyter/.local/bin' which is not on PATH.\n",
      "  Consider adding this directory to PATH or, if you prefer to suppress this warning, use --no-warn-script-location.\u001b[0m\u001b[33m\n",
      "\u001b[0m\u001b[33m  WARNING: The script watchfiles is installed in '/home/jupyter/.local/bin' which is not on PATH.\n",
      "  Consider adding this directory to PATH or, if you prefer to suppress this warning, use --no-warn-script-location.\u001b[0m\u001b[33m\n",
      "\u001b[0m\u001b[33m  WARNING: The script uvicorn is installed in '/home/jupyter/.local/bin' which is not on PATH.\n",
      "  Consider adding this directory to PATH or, if you prefer to suppress this warning, use --no-warn-script-location.\u001b[0m\u001b[33m\n",
      "\u001b[0m\u001b[33m  WARNING: The script email_validator is installed in '/home/jupyter/.local/bin' which is not on PATH.\n",
      "  Consider adding this directory to PATH or, if you prefer to suppress this warning, use --no-warn-script-location.\u001b[0m\u001b[33m\n",
      "\u001b[0m\u001b[33m  WARNING: The script typer is installed in '/home/jupyter/.local/bin' which is not on PATH.\n",
      "  Consider adding this directory to PATH or, if you prefer to suppress this warning, use --no-warn-script-location.\u001b[0m\u001b[33m\n",
      "\u001b[0m\u001b[33m  WARNING: The script huggingface-cli is installed in '/home/jupyter/.local/bin' which is not on PATH.\n",
      "  Consider adding this directory to PATH or, if you prefer to suppress this warning, use --no-warn-script-location.\u001b[0m\u001b[33m\n",
      "\u001b[0m\u001b[33m  WARNING: The script httpx is installed in '/home/jupyter/.local/bin' which is not on PATH.\n",
      "  Consider adding this directory to PATH or, if you prefer to suppress this warning, use --no-warn-script-location.\u001b[0m\u001b[33m\n",
      "\u001b[0m\u001b[33m  WARNING: The script fastapi is installed in '/home/jupyter/.local/bin' which is not on PATH.\n",
      "  Consider adding this directory to PATH or, if you prefer to suppress this warning, use --no-warn-script-location.\u001b[0m\u001b[33m\n",
      "\u001b[0m\u001b[33m  WARNING: The scripts gradio and upload_theme are installed in '/home/jupyter/.local/bin' which is not on PATH.\n",
      "  Consider adding this directory to PATH or, if you prefer to suppress this warning, use --no-warn-script-location.\u001b[0m\u001b[33m\n",
      "\u001b[0m\u001b[31mERROR: pip's dependency resolver does not currently take into account all the packages that are installed. This behaviour is the source of the following dependency conflicts.\n",
      "botocore 1.23.24 requires urllib3<1.27,>=1.25.4, but you have urllib3 2.2.1 which is incompatible.\n",
      "cloud-ml 0.0.1 requires requests<=2.28.1,>=2.22.0, but you have requests 2.32.3 which is incompatible.\n",
      "confection 0.1.0 requires pydantic!=1.8,!=1.8.1,<1.11.0,>=1.7.4, but you have pydantic 2.7.2 which is incompatible.\n",
      "inflect 6.0.5 requires pydantic<2,>=1.9.1, but you have pydantic 2.7.2 which is incompatible.\n",
      "spacy 3.5.4 requires pydantic!=1.8,!=1.8.1,<1.11.0,>=1.7.4, but you have pydantic 2.7.2 which is incompatible.\n",
      "spacy 3.5.4 requires typer<0.10.0,>=0.3.0, but you have typer 0.12.3 which is incompatible.\n",
      "thinc 8.1.10 requires pydantic!=1.8,!=1.8.1,<1.11.0,>=1.7.4, but you have pydantic 2.7.2 which is incompatible.\u001b[0m\u001b[31m\n",
      "\u001b[0mSuccessfully installed aiofiles-23.2.1 annotated-types-0.7.0 dnspython-2.6.1 email_validator-2.1.1 fastapi-0.111.0 fastapi-cli-0.0.4 ffmpy-0.3.2 gradio-4.32.1 gradio-client-0.17.0 h11-0.14.0 httpcore-1.0.5 httptools-0.6.1 httpx-0.27.0 huggingface-hub-0.23.2 pydantic-2.7.2 pydantic-core-2.18.3 pydub-0.25.1 python-dotenv-1.0.1 python-multipart-0.0.9 requests-2.32.3 ruff-0.4.7 semantic-version-2.10.0 shellingham-1.5.4 starlette-0.37.2 tomlkit-0.12.0 typer-0.12.3 typing-extensions-4.12.0 ujson-5.10.0 urllib3-2.2.1 uvicorn-0.30.0 uvloop-0.19.0 watchfiles-0.22.0 websockets-11.0.3\n",
      "\n",
      "\u001b[1m[\u001b[0m\u001b[34;49mnotice\u001b[0m\u001b[1;39;49m]\u001b[0m\u001b[39;49m A new release of pip is available: \u001b[0m\u001b[31;49m23.0.1\u001b[0m\u001b[39;49m -> \u001b[0m\u001b[32;49m24.0\u001b[0m\n",
      "\u001b[1m[\u001b[0m\u001b[34;49mnotice\u001b[0m\u001b[1;39;49m]\u001b[0m\u001b[39;49m To update, run: \u001b[0m\u001b[32;49mpython3 -m pip install --upgrade pip\u001b[0m\n"
     ]
    }
   ],
   "source": [
    "%pip install gradio"
   ]
  },
  {
   "cell_type": "code",
   "execution_count": 15,
   "id": "ec168af4-7aeb-47cb-a03a-95c7956e97f1",
   "metadata": {
    "execution": {
     "iopub.execute_input": "2024-05-31T23:29:45.453638Z",
     "iopub.status.busy": "2024-05-31T23:29:45.452504Z",
     "iopub.status.idle": "2024-05-31T23:29:48.127518Z",
     "shell.execute_reply": "2024-05-31T23:29:48.126752Z",
     "shell.execute_reply.started": "2024-05-31T23:29:45.453592Z"
    },
    "tags": []
   },
   "outputs": [
    {
     "name": "stdout",
     "output_type": "stream",
     "text": [
      "Launching...\n",
      "Running on local URL:  http://127.0.0.1:7863\n",
      "Running on public URL: https://62cc7d81c7f5de607e.gradio.live\n",
      "\n",
      "This share link expires in 72 hours. For free permanent hosting and GPU upgrades, run `gradio deploy` from Terminal to deploy to Spaces (https://huggingface.co/spaces)\n"
     ]
    },
    {
     "data": {
      "text/html": [
       "<div><iframe src=\"https://62cc7d81c7f5de607e.gradio.live\" width=\"100%\" height=\"500\" allow=\"autoplay; camera; microphone; clipboard-read; clipboard-write;\" frameborder=\"0\" allowfullscreen></iframe></div>"
      ],
      "text/plain": [
       "<ml_kernel._vendor.IPython.core.display.HTML object>"
      ]
     },
     "metadata": {},
     "output_type": "display_data"
    },
    {
     "name": "stdout",
     "output_type": "stream",
     "text": [
      "Done\n",
      "Translating\n",
      "Extracting prompt\n",
      "Sumbitting to ART\n",
      "Checking\n",
      "Checking\n",
      "Checking\n",
      "Checking\n"
     ]
    }
   ],
   "source": [
    "import gradio as gr\n",
    "import time\n",
    "\n",
    "def greet(text):\n",
    "    print('Translating')\n",
    "    text_ru = translate(text)\n",
    "    print('Extracting prompt')\n",
    "    res = gpt.invoke(text_ru)\n",
    "    print('Sumbitting to ART')\n",
    "    id = submit_art(res)\n",
    "    if not id:\n",
    "        print(\"Error\")\n",
    "        return None\n",
    "    while True:\n",
    "        time.sleep(5)\n",
    "        print('Checking')\n",
    "        res = check(id)\n",
    "        if res:\n",
    "            break\n",
    "    return res\n",
    "\n",
    "demo = gr.Interface(\n",
    "    fn=greet,\n",
    "    inputs=[\"text\"],\n",
    "    outputs=[\"image\"],\n",
    ")\n",
    "\n",
    "print(\"Launching...\")\n",
    "demo.launch(share=True)\n",
    "print(\"Done\")"
   ]
  },
  {
   "cell_type": "code",
   "execution_count": null,
   "id": "1b840571-26c9-45b3-b50e-0c6df0f7c7db",
   "metadata": {},
   "outputs": [],
   "source": []
  }
 ],
 "metadata": {
  "kernelspec": {
   "display_name": "DataSphere Kernel",
   "language": "python",
   "name": "python3"
  },
  "language_info": {
   "codemirror_mode": {
    "name": "ipython",
    "version": 3
   },
   "file_extension": ".py",
   "mimetype": "text/x-python",
   "name": "python",
   "nbconvert_exporter": "python",
   "pygments_lexer": "ipython3",
   "version": "3.10.12"
  }
 },
 "nbformat": 4,
 "nbformat_minor": 5
}
